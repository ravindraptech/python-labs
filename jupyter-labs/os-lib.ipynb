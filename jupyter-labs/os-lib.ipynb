{
 "cells": [
  {
   "cell_type": "code",
   "execution_count": 2,
   "id": "d93f71f3-57a4-4b1b-9ef5-1816bed7633a",
   "metadata": {},
   "outputs": [
    {
     "name": "stdout",
     "output_type": "stream",
     "text": [
      "/home/ravindra\n"
     ]
    }
   ],
   "source": [
    "# import os lib\n",
    "import os\n",
    "\n",
    "#print os environment variable key\n",
    "print (os.getenv(\"HOME\"))"
   ]
  },
  {
   "cell_type": "code",
   "execution_count": null,
   "id": "28f26b2b-7390-4f0c-890a-76c53a0ffafe",
   "metadata": {},
   "outputs": [],
   "source": []
  },
  {
   "cell_type": "code",
   "execution_count": null,
   "id": "4a3b0b81-a38b-4ae7-8c54-482b18bc4e3b",
   "metadata": {},
   "outputs": [],
   "source": []
  }
 ],
 "metadata": {
  "kernelspec": {
   "display_name": "Python 3 (ipykernel)",
   "language": "python",
   "name": "python3"
  },
  "language_info": {
   "codemirror_mode": {
    "name": "ipython",
    "version": 3
   },
   "file_extension": ".py",
   "mimetype": "text/x-python",
   "name": "python",
   "nbconvert_exporter": "python",
   "pygments_lexer": "ipython3",
   "version": "3.8.10"
  }
 },
 "nbformat": 4,
 "nbformat_minor": 5
}

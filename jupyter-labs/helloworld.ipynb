{
 "cells": [
  {
   "cell_type": "markdown",
   "id": "40b08055-c0b3-4ffc-aa9e-857a685a5f9e",
   "metadata": {},
   "source": [
    "First notebook"
   ]
  },
  {
   "cell_type": "code",
   "execution_count": 1,
   "id": "136edfb5-2869-442b-867c-3fe8f160ede4",
   "metadata": {},
   "outputs": [
    {
     "name": "stdout",
     "output_type": "stream",
     "text": [
      "hello world!\n"
     ]
    },
    {
     "name": "stdin",
     "output_type": "stream",
     "text": [
      "What is your name?  kumar\n"
     ]
    },
    {
     "name": "stdout",
     "output_type": "stream",
     "text": [
      "Glad to meet you, kumar\n"
     ]
    }
   ],
   "source": [
    "def main():\n",
    "    print(\"hello world!\")\n",
    "    name = input(\"What is your name? \")\n",
    "    print(\"Glad to meet you,\", name)\n",
    "\n",
    "if __name__ == \"__main__\":\n",
    "    main()"
   ]
  },
  {
   "cell_type": "code",
   "execution_count": null,
   "id": "9e66cef0-c75d-4662-b3b0-c8149e5afea3",
   "metadata": {},
   "outputs": [],
   "source": []
  }
 ],
 "metadata": {
  "kernelspec": {
   "display_name": "Python 3 (ipykernel)",
   "language": "python",
   "name": "python3"
  },
  "language_info": {
   "codemirror_mode": {
    "name": "ipython",
    "version": 3
   },
   "file_extension": ".py",
   "mimetype": "text/x-python",
   "name": "python",
   "nbconvert_exporter": "python",
   "pygments_lexer": "ipython3",
   "version": "3.8.10"
  }
 },
 "nbformat": 4,
 "nbformat_minor": 5
}
